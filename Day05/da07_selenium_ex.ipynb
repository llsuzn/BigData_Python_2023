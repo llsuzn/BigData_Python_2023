{
 "cells": [
  {
   "attachments": {},
   "cell_type": "markdown",
   "metadata": {},
   "source": [
    "### 셀레니움 사용\n",
    "- 셀레니움, 크롬기반(웹브라우저) 자동으로 데이터를 가져올 수 있는 라이브러리\n",
    "- RPA(Robot Processing Automation), 업무자동화\n",
    "    - 예) 퇴근전 네이버 쇼핑 회사제품 판매 현황 자동화를 걸어놓고, 다음날 아침 출근하면 엑셀에 만여개 데이터 수집완료\n",
    "\n",
    "#### 셀레니움 모듈 설치방법\n",
    "- 셀레니움 모듈 설치\n",
    "- 크롬 드라이버 설치\n",
    "```python\n",
    "!pip install selenium\n",
    "```"
   ]
  },
  {
   "cell_type": "code",
   "execution_count": 1,
   "metadata": {},
   "outputs": [
    {
     "name": "stdout",
     "output_type": "stream",
     "text": [
      "Requirement already satisfied: selenium in c:\\source\\bigdata_python_2023\\da_env\\lib\\site-packages (4.11.2)\n",
      "Requirement already satisfied: urllib3[socks]<3,>=1.26 in c:\\source\\bigdata_python_2023\\da_env\\lib\\site-packages (from selenium) (2.0.4)\n",
      "Requirement already satisfied: trio~=0.17 in c:\\source\\bigdata_python_2023\\da_env\\lib\\site-packages (from selenium) (0.22.2)\n",
      "Requirement already satisfied: trio-websocket~=0.9 in c:\\source\\bigdata_python_2023\\da_env\\lib\\site-packages (from selenium) (0.10.3)\n",
      "Requirement already satisfied: certifi>=2021.10.8 in c:\\source\\bigdata_python_2023\\da_env\\lib\\site-packages (from selenium) (2023.7.22)\n",
      "Requirement already satisfied: attrs>=20.1.0 in c:\\source\\bigdata_python_2023\\da_env\\lib\\site-packages (from trio~=0.17->selenium) (23.1.0)\n",
      "Requirement already satisfied: sortedcontainers in c:\\source\\bigdata_python_2023\\da_env\\lib\\site-packages (from trio~=0.17->selenium) (2.4.0)\n",
      "Requirement already satisfied: idna in c:\\source\\bigdata_python_2023\\da_env\\lib\\site-packages (from trio~=0.17->selenium) (3.4)\n",
      "Requirement already satisfied: outcome in c:\\source\\bigdata_python_2023\\da_env\\lib\\site-packages (from trio~=0.17->selenium) (1.2.0)\n",
      "Requirement already satisfied: sniffio in c:\\source\\bigdata_python_2023\\da_env\\lib\\site-packages (from trio~=0.17->selenium) (1.3.0)\n",
      "Requirement already satisfied: cffi>=1.14 in c:\\source\\bigdata_python_2023\\da_env\\lib\\site-packages (from trio~=0.17->selenium) (1.15.1)\n",
      "Requirement already satisfied: exceptiongroup in c:\\source\\bigdata_python_2023\\da_env\\lib\\site-packages (from trio-websocket~=0.9->selenium) (1.1.3)\n",
      "Requirement already satisfied: wsproto>=0.14 in c:\\source\\bigdata_python_2023\\da_env\\lib\\site-packages (from trio-websocket~=0.9->selenium) (1.2.0)\n",
      "Requirement already satisfied: pysocks!=1.5.7,<2.0,>=1.5.6 in c:\\source\\bigdata_python_2023\\da_env\\lib\\site-packages (from urllib3[socks]<3,>=1.26->selenium) (1.7.1)\n",
      "Requirement already satisfied: pycparser in c:\\source\\bigdata_python_2023\\da_env\\lib\\site-packages (from cffi>=1.14->trio~=0.17->selenium) (2.21)\n",
      "Requirement already satisfied: h11<1,>=0.9.0 in c:\\source\\bigdata_python_2023\\da_env\\lib\\site-packages (from wsproto>=0.14->trio-websocket~=0.9->selenium) (0.14.0)\n"
     ]
    },
    {
     "name": "stderr",
     "output_type": "stream",
     "text": [
      "\n",
      "[notice] A new release of pip is available: 23.0 -> 23.2.1\n",
      "[notice] To update, run: python.exe -m pip install --upgrade pip\n"
     ]
    }
   ],
   "source": [
    "!pip install selenium"
   ]
  },
  {
   "cell_type": "code",
   "execution_count": 2,
   "metadata": {},
   "outputs": [],
   "source": [
    "# 모듈 임포트\n",
    "from selenium import webdriver"
   ]
  },
  {
   "attachments": {},
   "cell_type": "markdown",
   "metadata": {},
   "source": [
    "### Chromedriver 설치\n",
    "- 자신의 크롬브라우저 버전이랑 일치 또는 상위버전\n",
    "    - 크롬 > 설정 > Chrome정보(현재 116.0.5845.X)\n",
    "- https://sites.google.com/chromium.org/driver/downloads 확인 다운로드\n",
    "- 설정\n",
    "    - C:\\WebDriver 폴더에 압축해제\n",
    "    - 시스템경로 등록(sysdm.cpl)\n",
    "        - 고급 > 환경변수\n",
    "    - 콘솔\n",
    "    ```python\n",
    "    chromdriver.exe --version\n",
    "    ```\n",
    "\n",
    "- 사용법 \n",
    "    ```python\n",
    "    driver = webdriver.Chrome()\n",
    "    ```"
   ]
  },
  {
   "cell_type": "code",
   "execution_count": 6,
   "metadata": {},
   "outputs": [
    {
     "name": "stderr",
     "output_type": "stream",
     "text": [
      "'chromdriver'��(��) ���� �Ǵ� �ܺ� ����, ������ �� �ִ� ���α׷�, �Ǵ�\n",
      "��ġ ������ �ƴմϴ�.\n"
     ]
    }
   ],
   "source": [
    "# 콘솔에서 확인할 것\n",
    "!chromdriver.exe --version"
   ]
  },
  {
   "cell_type": "code",
   "execution_count": 9,
   "metadata": {},
   "outputs": [],
   "source": [
    "# Chrome이 자동화된 테스트 소프트웨어에 의해 제어되고 있습니다\n",
    "driver = webdriver.Chrome()"
   ]
  },
  {
   "cell_type": "code",
   "execution_count": 10,
   "metadata": {},
   "outputs": [],
   "source": [
    "# 셀레니움이 연 크롬의 URL을 입력\n",
    "url = 'https://www.danawa.com'\n",
    "driver.get(url)"
   ]
  },
  {
   "cell_type": "code",
   "execution_count": 11,
   "metadata": {},
   "outputs": [],
   "source": [
    "# 셀레니움이 연 크롬의 URL을 입력\n",
    "url = 'https://www.danawa.com'\n",
    "driver.get(url)"
   ]
  },
  {
   "cell_type": "code",
   "execution_count": null,
   "metadata": {},
   "outputs": [],
   "source": [
    "# 소스 긁어오기\n",
    "html = driver.page_source\n",
    "html"
   ]
  }
 ],
 "metadata": {
  "kernelspec": {
   "display_name": "da_env",
   "language": "python",
   "name": "python3"
  },
  "language_info": {
   "codemirror_mode": {
    "name": "ipython",
    "version": 3
   },
   "file_extension": ".py",
   "mimetype": "text/x-python",
   "name": "python",
   "nbconvert_exporter": "python",
   "pygments_lexer": "ipython3",
   "version": "3.11.2"
  },
  "orig_nbformat": 4,
  "vscode": {
   "interpreter": {
    "hash": "9528f35b7f784b348d24d80d1ad444d29deb8be1b586ff33c5fc3870840d984f"
   }
  }
 },
 "nbformat": 4,
 "nbformat_minor": 2
}
