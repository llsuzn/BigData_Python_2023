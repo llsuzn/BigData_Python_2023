{
 "cells": [
  {
   "attachments": {},
   "cell_type": "markdown",
   "metadata": {},
   "source": [
    "### 판다스, 넘파이 응용\n",
    "\n",
    "판다스 기본형 DataFrame, Series의 각 데이터 타입 Numpy 타입을 사용"
   ]
  },
  {
   "cell_type": "code",
   "execution_count": 3,
   "metadata": {},
   "outputs": [],
   "source": [
    "import pandas as pd\n",
    "import numpy as np"
   ]
  },
  {
   "cell_type": "code",
   "execution_count": 4,
   "metadata": {},
   "outputs": [
    {
     "name": "stdout",
     "output_type": "stream",
     "text": [
      "0   -0.671470\n",
      "1   -0.997963\n",
      "2    0.627805\n",
      "3    0.195011\n",
      "4   -0.092628\n",
      "5    0.359678\n",
      "6    0.259338\n",
      "7   -0.691911\n",
      "8    0.958943\n",
      "9    0.220864\n",
      "dtype: float64\n",
      "0    38\n",
      "dtype: int64\n"
     ]
    }
   ],
   "source": [
    "# 시리즈 생성\n",
    "s1 = pd.Series(data=np.random.randn(10))    # randn : 결과값 float형, 10개 생성 \n",
    "print(s1)\n",
    "s2 = pd.Series(data=np.random.randint(100)) # randint : 결과값 int형 1개 생성\n",
    "print(s2)"
   ]
  },
  {
   "cell_type": "code",
   "execution_count": 5,
   "metadata": {},
   "outputs": [
    {
     "data": {
      "text/plain": [
       "0     7.0\n",
       "1    10.0\n",
       "2     6.0\n",
       "3     2.0\n",
       "4     1.0\n",
       "5     4.0\n",
       "6     3.0\n",
       "7     7.0\n",
       "8    10.0\n",
       "9     2.0\n",
       "dtype: float64"
      ]
     },
     "execution_count": 5,
     "metadata": {},
     "output_type": "execute_result"
    }
   ],
   "source": [
    "# 음수 제거, 10을 곱해서 10단위 수로 만들고, 반올림해서 소수점\n",
    "s1.abs().map(lambda x: x * 10).round()"
   ]
  },
  {
   "cell_type": "code",
   "execution_count": 6,
   "metadata": {},
   "outputs": [
    {
     "data": {
      "text/plain": [
       "0.01676684491359521"
      ]
     },
     "execution_count": 6,
     "metadata": {},
     "output_type": "execute_result"
    }
   ],
   "source": [
    "# 평균\n",
    "np.mean(s1)"
   ]
  },
  {
   "cell_type": "code",
   "execution_count": 7,
   "metadata": {},
   "outputs": [
    {
     "name": "stdout",
     "output_type": "stream",
     "text": [
      "<class 'pandas.core.series.Series'>\n",
      "RangeIndex: 10 entries, 0 to 9\n",
      "Series name: None\n",
      "Non-Null Count  Dtype  \n",
      "--------------  -----  \n",
      "10 non-null     float64\n",
      "dtypes: float64(1)\n",
      "memory usage: 212.0 bytes\n"
     ]
    }
   ],
   "source": [
    "# 시리즈, DF의 기본적인 정보\n",
    "s1.info()"
   ]
  },
  {
   "cell_type": "code",
   "execution_count": 8,
   "metadata": {},
   "outputs": [
    {
     "data": {
      "text/plain": [
       "count    10.000000\n",
       "mean      0.016767\n",
       "std       0.626139\n",
       "min      -0.997963\n",
       "25%      -0.526759\n",
       "50%       0.207938\n",
       "75%       0.334593\n",
       "max       0.958943\n",
       "dtype: float64"
      ]
     },
     "execution_count": 8,
     "metadata": {},
     "output_type": "execute_result"
    }
   ],
   "source": [
    "# 판다스 데이터 기본통계 함수\n",
    "s1.describe()"
   ]
  },
  {
   "cell_type": "code",
   "execution_count": 9,
   "metadata": {},
   "outputs": [
    {
     "data": {
      "text/plain": [
       "0     1.0\n",
       "1     3.0\n",
       "2     5.0\n",
       "3     NaN\n",
       "4     1.0\n",
       "5     3.0\n",
       "6     5.0\n",
       "7     NaN\n",
       "8     1.0\n",
       "9     3.0\n",
       "10    5.0\n",
       "11    NaN\n",
       "12    1.0\n",
       "13    3.0\n",
       "14    5.0\n",
       "15    NaN\n",
       "16    1.0\n",
       "17    3.0\n",
       "18    5.0\n",
       "19    NaN\n",
       "dtype: float64"
      ]
     },
     "execution_count": 9,
     "metadata": {},
     "output_type": "execute_result"
    }
   ],
   "source": [
    "s3 = pd.Series(data=[1,3,5, np.nan] * 5)  # nan이나 none은 똑같음\n",
    "s3"
   ]
  },
  {
   "cell_type": "code",
   "execution_count": 10,
   "metadata": {},
   "outputs": [
    {
     "name": "stdout",
     "output_type": "stream",
     "text": [
      "<class 'pandas.core.series.Series'>\n",
      "RangeIndex: 20 entries, 0 to 19\n",
      "Series name: None\n",
      "Non-Null Count  Dtype  \n",
      "--------------  -----  \n",
      "15 non-null     float64\n",
      "dtypes: float64(1)\n",
      "memory usage: 292.0 bytes\n"
     ]
    }
   ],
   "source": [
    "s3.info()"
   ]
  },
  {
   "cell_type": "code",
   "execution_count": 11,
   "metadata": {},
   "outputs": [
    {
     "data": {
      "text/plain": [
       "count    15.000000\n",
       "mean      3.000000\n",
       "std       1.690309\n",
       "min       1.000000\n",
       "25%       1.000000\n",
       "50%       3.000000\n",
       "75%       5.000000\n",
       "max       5.000000\n",
       "dtype: float64"
      ]
     },
     "execution_count": 11,
     "metadata": {},
     "output_type": "execute_result"
    }
   ],
   "source": [
    "# 결측치 때문에 20개 데이터에서 통계를 구할 때 15개 밖에 안나옴\n",
    "s3.describe()"
   ]
  },
  {
   "cell_type": "code",
   "execution_count": 12,
   "metadata": {},
   "outputs": [
    {
     "name": "stdout",
     "output_type": "stream",
     "text": [
      "1.0    0.333333\n",
      "3.0    0.333333\n",
      "5.0    0.333333\n",
      "Name: proportion, dtype: float64\n",
      "1.0    5\n",
      "3.0    5\n",
      "5.0    5\n",
      "NaN    5\n",
      "Name: count, dtype: int64\n"
     ]
    }
   ],
   "source": [
    "# 값별 빈도(count)수, 속성(option) dropna=False, namalize=True/False\n",
    "print(s3.value_counts(dropna=True,normalize=True))\n",
    "print(s3.value_counts(dropna=False,normalize=False))"
   ]
  },
  {
   "cell_type": "code",
   "execution_count": 13,
   "metadata": {},
   "outputs": [
    {
     "data": {
      "text/plain": [
       "5"
      ]
     },
     "execution_count": 13,
     "metadata": {},
     "output_type": "execute_result"
    }
   ],
   "source": [
    "# 결측치 확인 함수\n",
    "s3.isnull().sum()"
   ]
  },
  {
   "attachments": {},
   "cell_type": "markdown",
   "metadata": {},
   "source": [
    "### 데이터프레임과 넘파이"
   ]
  },
  {
   "cell_type": "code",
   "execution_count": 14,
   "metadata": {},
   "outputs": [
    {
     "name": "stdout",
     "output_type": "stream",
     "text": [
      "  class  year  month  val1  val2   val3\n",
      "0     B  2018      9    10   704  11239\n",
      "1     A  2023      8    10   301  14153\n",
      "2     A  2021      6     8   753  19772\n",
      "3     B  2017      5     4   801  17473\n",
      "4     E  2022      2     3   405  11769\n",
      "5     C  2011      3     4   802  14959\n",
      "6     C  2021     11     6   797  19356\n",
      "7     E  2013      7     3   568  18574\n",
      "8     C  2011      8     1   892  15572\n",
      "9     D  2021      5     5   105  19209\n",
      "(10, 6)\n"
     ]
    }
   ],
   "source": [
    "# 데이터프레임 생성 -> 이렇게 만들일은 거의 없음\n",
    "# C# 에서 Bogus 샘플데이터 생성과 동일작업\n",
    "size = 10\n",
    "df1 = pd.DataFrame(data={\n",
    "    'class': [['A','B','C','D','E','F'][np.random.randint(0,5)] for i in range(0,size)],\n",
    "    'year' : [np.random.randint(2010, 2024) for _ in range(0,size)],\n",
    "    'month' : [np.random.randint(1,13) for _ in range(0, size)],\n",
    "    'val1' : [np.random.randint(1,11) for _ in range(0,size)],\n",
    "    'val2' : [np.random.randint(100,1000) for _ in range(0,size)],\n",
    "    'val3' : [np.random.randint(10000,20000) for _ in range(0,size)],\n",
    "})\n",
    "print(df1)\n",
    "print(df1.shape)\n",
    "# shape 출력값 2차원배열과 1차원배열의 의미가 상이"
   ]
  },
  {
   "cell_type": "code",
   "execution_count": 15,
   "metadata": {},
   "outputs": [
    {
     "name": "stdout",
     "output_type": "stream",
     "text": [
      "<class 'pandas.core.frame.DataFrame'>\n",
      "RangeIndex: 10 entries, 0 to 9\n",
      "Data columns (total 6 columns):\n",
      " #   Column  Non-Null Count  Dtype \n",
      "---  ------  --------------  ----- \n",
      " 0   class   10 non-null     object\n",
      " 1   year    10 non-null     int64 \n",
      " 2   month   10 non-null     int64 \n",
      " 3   val1    10 non-null     int64 \n",
      " 4   val2    10 non-null     int64 \n",
      " 5   val3    10 non-null     int64 \n",
      "dtypes: int64(5), object(1)\n",
      "memory usage: 612.0+ bytes\n"
     ]
    }
   ],
   "source": [
    "df1.info()"
   ]
  },
  {
   "cell_type": "code",
   "execution_count": 16,
   "metadata": {},
   "outputs": [
    {
     "data": {
      "text/html": [
       "<div>\n",
       "<style scoped>\n",
       "    .dataframe tbody tr th:only-of-type {\n",
       "        vertical-align: middle;\n",
       "    }\n",
       "\n",
       "    .dataframe tbody tr th {\n",
       "        vertical-align: top;\n",
       "    }\n",
       "\n",
       "    .dataframe thead th {\n",
       "        text-align: right;\n",
       "    }\n",
       "</style>\n",
       "<table border=\"1\" class=\"dataframe\">\n",
       "  <thead>\n",
       "    <tr style=\"text-align: right;\">\n",
       "      <th></th>\n",
       "      <th>year</th>\n",
       "      <th>month</th>\n",
       "      <th>val1</th>\n",
       "      <th>val2</th>\n",
       "      <th>val3</th>\n",
       "    </tr>\n",
       "  </thead>\n",
       "  <tbody>\n",
       "    <tr>\n",
       "      <th>count</th>\n",
       "      <td>10.000000</td>\n",
       "      <td>10.00000</td>\n",
       "      <td>10.000000</td>\n",
       "      <td>10.000000</td>\n",
       "      <td>10.000000</td>\n",
       "    </tr>\n",
       "    <tr>\n",
       "      <th>mean</th>\n",
       "      <td>2017.800000</td>\n",
       "      <td>6.40000</td>\n",
       "      <td>5.400000</td>\n",
       "      <td>612.800000</td>\n",
       "      <td>16207.600000</td>\n",
       "    </tr>\n",
       "    <tr>\n",
       "      <th>std</th>\n",
       "      <td>4.613988</td>\n",
       "      <td>2.75681</td>\n",
       "      <td>3.062316</td>\n",
       "      <td>260.627363</td>\n",
       "      <td>3151.708256</td>\n",
       "    </tr>\n",
       "    <tr>\n",
       "      <th>min</th>\n",
       "      <td>2011.000000</td>\n",
       "      <td>2.00000</td>\n",
       "      <td>1.000000</td>\n",
       "      <td>105.000000</td>\n",
       "      <td>11239.000000</td>\n",
       "    </tr>\n",
       "    <tr>\n",
       "      <th>25%</th>\n",
       "      <td>2014.000000</td>\n",
       "      <td>5.00000</td>\n",
       "      <td>3.250000</td>\n",
       "      <td>445.750000</td>\n",
       "      <td>14354.500000</td>\n",
       "    </tr>\n",
       "    <tr>\n",
       "      <th>50%</th>\n",
       "      <td>2019.500000</td>\n",
       "      <td>6.50000</td>\n",
       "      <td>4.500000</td>\n",
       "      <td>728.500000</td>\n",
       "      <td>16522.500000</td>\n",
       "    </tr>\n",
       "    <tr>\n",
       "      <th>75%</th>\n",
       "      <td>2021.000000</td>\n",
       "      <td>8.00000</td>\n",
       "      <td>7.500000</td>\n",
       "      <td>800.000000</td>\n",
       "      <td>19050.250000</td>\n",
       "    </tr>\n",
       "    <tr>\n",
       "      <th>max</th>\n",
       "      <td>2023.000000</td>\n",
       "      <td>11.00000</td>\n",
       "      <td>10.000000</td>\n",
       "      <td>892.000000</td>\n",
       "      <td>19772.000000</td>\n",
       "    </tr>\n",
       "  </tbody>\n",
       "</table>\n",
       "</div>"
      ],
      "text/plain": [
       "              year     month       val1        val2          val3\n",
       "count    10.000000  10.00000  10.000000   10.000000     10.000000\n",
       "mean   2017.800000   6.40000   5.400000  612.800000  16207.600000\n",
       "std       4.613988   2.75681   3.062316  260.627363   3151.708256\n",
       "min    2011.000000   2.00000   1.000000  105.000000  11239.000000\n",
       "25%    2014.000000   5.00000   3.250000  445.750000  14354.500000\n",
       "50%    2019.500000   6.50000   4.500000  728.500000  16522.500000\n",
       "75%    2021.000000   8.00000   7.500000  800.000000  19050.250000\n",
       "max    2023.000000  11.00000  10.000000  892.000000  19772.000000"
      ]
     },
     "execution_count": 16,
     "metadata": {},
     "output_type": "execute_result"
    }
   ],
   "source": [
    "df1.describe()"
   ]
  }
 ],
 "metadata": {
  "kernelspec": {
   "display_name": "da_env",
   "language": "python",
   "name": "python3"
  },
  "language_info": {
   "codemirror_mode": {
    "name": "ipython",
    "version": 3
   },
   "file_extension": ".py",
   "mimetype": "text/x-python",
   "name": "python",
   "nbconvert_exporter": "python",
   "pygments_lexer": "ipython3",
   "version": "3.11.2"
  },
  "orig_nbformat": 4,
  "vscode": {
   "interpreter": {
    "hash": "9528f35b7f784b348d24d80d1ad444d29deb8be1b586ff33c5fc3870840d984f"
   }
  }
 },
 "nbformat": 4,
 "nbformat_minor": 2
}
